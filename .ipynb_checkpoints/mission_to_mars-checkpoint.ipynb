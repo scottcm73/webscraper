{
 "cells": [
  {
   "cell_type": "code",
   "execution_count": 1,
   "metadata": {},
   "outputs": [],
   "source": [
    "import selenium\n",
    "from bs4 import BeautifulSoup\n",
    "import pandas as pd\n",
    "import requests\n",
    "import pymongo\n",
    "import lxml"
   ]
  },
  {
   "cell_type": "code",
   "execution_count": 2,
   "metadata": {},
   "outputs": [],
   "source": [
    "\n",
    "CONN = \"mongodb://localhost:27017\"\n",
    "URL = \"https://mars.nasa.gov/news/\"\n",
    "#db = client.nasa_news_db\n",
    "\n",
    "\n",
    "\n",
    "def base_scrape(URL):\n",
    "    html = requests.get(URL).text\n",
    "    soup = BeautifulSoup(html, \"html.parser\")\n",
    "    return soup\n",
    "\n",
    "soup=base_scrape(URL)\n",
    "\n",
    "   \n",
    "news_link_list=[] \n",
    "news_title_list=[]\n",
    "news_teaser_list=[]\n",
    "\n",
    "\n",
    "\n",
    "for data in soup.find_all('div', class_='content_title'):\n",
    "    for a in data.find_all('a'):\n",
    "        news_title=a.text\n",
    "        news_title=news_title.replace('\\n', '')\n",
    "        news_link=URL + a.get('href')\n",
    "        news_link_list.append(news_link)\n",
    "        news_title_list.append(news_title) #for getting text between the link and the close anchor tag\n",
    "        \n",
    "        soup2=base_scrape(news_link)\n",
    "\n",
    "        for data in soup2.find_all('div', class_='wysiwyg_content'):\n",
    "            p=data.find('p')\n",
    "            article_text=p.text\n",
    "            news_teaser_list.append(article_text)\n",
    "  \n",
    "\n",
    "\n",
    "    "
   ]
  },
  {
   "cell_type": "code",
   "execution_count": 3,
   "metadata": {},
   "outputs": [],
   "source": [
    "\n",
    "URL = \"https://www.jpl.nasa.gov/spaceimages/?search=&category=Mars\"\n",
    "html = requests.get(URL).text\n",
    "soup = BeautifulSoup(html, \"html.parser\")\n",
    "\n",
    "for a in soup.find_all(\"a\", class_=\"button fancybox\"):\n",
    "    featured_image_url = a.get(\"data-fancybox-href\")\n",
    "    # Below featured_image_url becomes the full link\n",
    "    featured_image_url = \"https://www.jpl.nasa.gov/spaceimages/?search=&category=Mars\" + featured_image_url\n",
    "\n",
    "    \n"
   ]
  },
  {
   "cell_type": "code",
   "execution_count": 14,
   "metadata": {},
   "outputs": [
    {
     "name": "stdout",
     "output_type": "stream",
     "text": [
      "InSight sol 449 (2020-03-01) low -93.6ºC (-136.4ºF) high -11.3ºC (11.7ºF)\n",
      "winds from the SSW at 6.8 m/s (15.1 mph) gusting to 23.9 m/s (53.4 mph)\n",
      "pressure at 6.30 hPa\n"
     ]
    }
   ],
   "source": [
    "URL = \"https://twitter.com/marswxreport?lang=en\"\n",
    "html = requests.get(URL).text\n",
    "FILE = \"html_mars_twitter.html\"\n",
    "\n",
    "soup = BeautifulSoup(html, \"html.parser\")\n",
    "\n",
    "# I wrote this to a file to examine the HTML code outside of Firefox inspector.\n",
    "with open(FILE, \"w+\", encoding=\"utf-8\") as f:\n",
    "    f.write(soup.prettify())\n",
    "\n",
    "\n",
    "    \n",
    "soup2= BeautifulSoup(html, \"html.parser\")\n",
    "\n",
    "\n",
    "    \n",
    "mars_weather=soup2.find(\"p\", class_=\"TweetTextSize TweetTextSize--normal js-tweet-text tweet-text\")\n",
    "mars_weather_text=mars_weather.text\n",
    "\n",
    "#I had to take out the pic from the text...\n",
    "sep=\"pic\"\n",
    "mars_weather = mars_weather_text.split(sep, 1)[0]\n",
    "    \n",
    "print (mars_weather)    \n"
   ]
  },
  {
   "cell_type": "code",
   "execution_count": 6,
   "metadata": {},
   "outputs": [
    {
     "name": "stdout",
     "output_type": "stream",
     "text": [
      "<table border=\"1\" class=\"dataframe\">\n",
      "  <thead>\n",
      "    <tr style=\"text-align: right;\">\n",
      "      <th></th>\n",
      "      <th>0</th>\n",
      "      <th>1</th>\n",
      "    </tr>\n",
      "  </thead>\n",
      "  <tbody>\n",
      "    <tr>\n",
      "      <th>0</th>\n",
      "      <td>Equatorial Diameter:</td>\n",
      "      <td>6,792 km</td>\n",
      "    </tr>\n",
      "    <tr>\n",
      "      <th>1</th>\n",
      "      <td>Polar Diameter:</td>\n",
      "      <td>6,752 km</td>\n",
      "    </tr>\n",
      "    <tr>\n",
      "      <th>2</th>\n",
      "      <td>Mass:</td>\n",
      "      <td>6.39 × 10^23 kg  (0.11 Earths)</td>\n",
      "    </tr>\n",
      "    <tr>\n",
      "      <th>3</th>\n",
      "      <td>Moons:</td>\n",
      "      <td>2 (  Phobos  &amp;  Deimos  )</td>\n",
      "    </tr>\n",
      "    <tr>\n",
      "      <th>4</th>\n",
      "      <td>Orbit Distance:</td>\n",
      "      <td>227,943,824 km  (1.38 AU)</td>\n",
      "    </tr>\n",
      "    <tr>\n",
      "      <th>5</th>\n",
      "      <td>Orbit Period:</td>\n",
      "      <td>687 days (1.9 years)</td>\n",
      "    </tr>\n",
      "    <tr>\n",
      "      <th>6</th>\n",
      "      <td>Surface Temperature:</td>\n",
      "      <td>-87 to -5 °C</td>\n",
      "    </tr>\n",
      "    <tr>\n",
      "      <th>7</th>\n",
      "      <td>First Record:</td>\n",
      "      <td>2nd millennium BC</td>\n",
      "    </tr>\n",
      "    <tr>\n",
      "      <th>8</th>\n",
      "      <td>Recorded By:</td>\n",
      "      <td>Egyptian astronomers</td>\n",
      "    </tr>\n",
      "  </tbody>\n",
      "</table>\n"
     ]
    }
   ],
   "source": [
    "URL = \"http://space-facts.com/mars/\"\n",
    "\n",
    "soup = BeautifulSoup(html, \"html.parser\")\n",
    "FILE = \"html_mars_facts.html\"\n",
    "with open(FILE, \"w+\", encoding=\"utf-8\") as f:\n",
    "    f.write(soup2.prettify())\n",
    "\n",
    "\n",
    "soup=BeautifulSoup((open(FILE)), 'lxml')   \n",
    "\n",
    "\n",
    "\n",
    "table = soup.find_all('table')[0] \n",
    "df = pd.read_html(str(table))[0]\n",
    "   \n",
    "df_html=df.to_html()    \n",
    "\n",
    "\n",
    "print(df_html)"
   ]
  },
  {
   "cell_type": "code",
   "execution_count": 6,
   "metadata": {},
   "outputs": [
    {
     "name": "stdout",
     "output_type": "stream",
     "text": [
      "Cerberus Hemisphere Enhanced\n",
      "https://astrogeology.usgs.gov/search/results?q=hemisphere+enhanced&k1=target&v1=Mars/search/map/Mars/Viking/cerberus_enhanced\n",
      "Schiaparelli Hemisphere Enhanced\n",
      "https://astrogeology.usgs.gov/search/results?q=hemisphere+enhanced&k1=target&v1=Mars/search/map/Mars/Viking/schiaparelli_enhanced\n",
      "Syrtis Major Hemisphere Enhanced\n",
      "https://astrogeology.usgs.gov/search/results?q=hemisphere+enhanced&k1=target&v1=Mars/search/map/Mars/Viking/syrtis_major_enhanced\n",
      "Valles Marineris Hemisphere Enhanced\n",
      "https://astrogeology.usgs.gov/search/results?q=hemisphere+enhanced&k1=target&v1=Mars/search/map/Mars/Viking/valles_marineris_enhanced\n"
     ]
    }
   ],
   "source": [
    "URL = \"https://astrogeology.usgs.gov/search/results?q=hemisphere+enhanced&k1=target&v1=Mars\"\n",
    "html = requests.get(URL).text\n",
    "soup = BeautifulSoup(html, \"html.parser\")\n",
    "\n",
    "title_list=[]\n",
    "image_url_list=[]\n",
    "for a in soup.find_all('a', class_=\"itemLink product-item\"):\n",
    "    title=a.text\n",
    "    title_list.append(title)\n",
    "    image_url=URL+a.get(\"href\")\n",
    "    image_url_list.append(image_url)\n",
    "    \n",
    "image_dict={\"image_url\": image_url_list, \"title\": title_list}\n",
    "    \n",
    "    \n",
    "    \n"
   ]
  },
  {
   "cell_type": "code",
   "execution_count": null,
   "metadata": {},
   "outputs": [],
   "source": []
  },
  {
   "cell_type": "code",
   "execution_count": null,
   "metadata": {},
   "outputs": [],
   "source": []
  }
 ],
 "metadata": {
  "kernelspec": {
   "display_name": "scaper12",
   "language": "python",
   "name": "scraper12"
  },
  "language_info": {
   "codemirror_mode": {
    "name": "ipython",
    "version": 3
   },
   "file_extension": ".py",
   "mimetype": "text/x-python",
   "name": "python",
   "nbconvert_exporter": "python",
   "pygments_lexer": "ipython3",
   "version": "3.7.4"
  }
 },
 "nbformat": 4,
 "nbformat_minor": 4
}
